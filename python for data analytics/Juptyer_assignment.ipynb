{
 "cells": [
  {
   "cell_type": "code",
   "execution_count": 2,
   "id": "30884046",
   "metadata": {},
   "outputs": [],
   "source": [
    "import pandas as pd\n",
    "import datetime\n",
    "import matplotlib.pyplot as plt"
   ]
  },
  {
   "cell_type": "code",
   "execution_count": 3,
   "id": "92f31a0a",
   "metadata": {},
   "outputs": [],
   "source": [
    "df = pd.read_csv('TMA_Data.csv')"
   ]
  },
  {
   "cell_type": "code",
   "execution_count": 4,
   "id": "2f7eb5f5",
   "metadata": {},
   "outputs": [
    {
     "data": {
      "text/html": [
       "<div>\n",
       "<style scoped>\n",
       "    .dataframe tbody tr th:only-of-type {\n",
       "        vertical-align: middle;\n",
       "    }\n",
       "\n",
       "    .dataframe tbody tr th {\n",
       "        vertical-align: top;\n",
       "    }\n",
       "\n",
       "    .dataframe thead th {\n",
       "        text-align: right;\n",
       "    }\n",
       "</style>\n",
       "<table border=\"1\" class=\"dataframe\">\n",
       "  <thead>\n",
       "    <tr style=\"text-align: right;\">\n",
       "      <th></th>\n",
       "      <th>ID</th>\n",
       "      <th>Staff</th>\n",
       "      <th>BirthYear</th>\n",
       "      <th>Gender</th>\n",
       "      <th>Marital</th>\n",
       "      <th>Citizenship</th>\n",
       "      <th>Minority</th>\n",
       "      <th>JoinDate</th>\n",
       "      <th>LeftDate</th>\n",
       "      <th>Unit</th>\n",
       "      <th>Salary</th>\n",
       "      <th>PerformanceScore</th>\n",
       "      <th>Survey</th>\n",
       "      <th>Satisfaction</th>\n",
       "      <th>Absence</th>\n",
       "    </tr>\n",
       "  </thead>\n",
       "  <tbody>\n",
       "    <tr>\n",
       "      <th>0</th>\n",
       "      <td>1</td>\n",
       "      <td>Aairah Hastings</td>\n",
       "      <td>10/7/1986</td>\n",
       "      <td>F</td>\n",
       "      <td>Single</td>\n",
       "      <td>Citizen</td>\n",
       "      <td>Yes</td>\n",
       "      <td>4/2/2012</td>\n",
       "      <td>NaN</td>\n",
       "      <td>Manufacturing</td>\n",
       "      <td>46335</td>\n",
       "      <td>Meet</td>\n",
       "      <td>3.4</td>\n",
       "      <td>5</td>\n",
       "      <td>15</td>\n",
       "    </tr>\n",
       "    <tr>\n",
       "      <th>1</th>\n",
       "      <td>2</td>\n",
       "      <td>Aaminah Mcmillan</td>\n",
       "      <td>05/25/86</td>\n",
       "      <td>F</td>\n",
       "      <td>Married</td>\n",
       "      <td>Citizen</td>\n",
       "      <td>No</td>\n",
       "      <td>5/12/2014</td>\n",
       "      <td>NaN</td>\n",
       "      <td>Manufacturing</td>\n",
       "      <td>66825</td>\n",
       "      <td>Meet</td>\n",
       "      <td>4.6</td>\n",
       "      <td>3</td>\n",
       "      <td>20</td>\n",
       "    </tr>\n",
       "    <tr>\n",
       "      <th>2</th>\n",
       "      <td>3</td>\n",
       "      <td>Aamna Howell</td>\n",
       "      <td>04/20/85</td>\n",
       "      <td>F</td>\n",
       "      <td>Single</td>\n",
       "      <td>Citizen</td>\n",
       "      <td>No</td>\n",
       "      <td>9/29/2014</td>\n",
       "      <td>NaN</td>\n",
       "      <td>Manufacturing</td>\n",
       "      <td>60446</td>\n",
       "      <td>Meet</td>\n",
       "      <td>3.4</td>\n",
       "      <td>4</td>\n",
       "      <td>14</td>\n",
       "    </tr>\n",
       "    <tr>\n",
       "      <th>3</th>\n",
       "      <td>4</td>\n",
       "      <td>Aayan Ferrell</td>\n",
       "      <td>6/10/1984</td>\n",
       "      <td>M</td>\n",
       "      <td>Married</td>\n",
       "      <td>Citizen</td>\n",
       "      <td>No</td>\n",
       "      <td>1/5/2016</td>\n",
       "      <td>NaN</td>\n",
       "      <td>Admin</td>\n",
       "      <td>93046</td>\n",
       "      <td>Meet</td>\n",
       "      <td>4.1</td>\n",
       "      <td>4</td>\n",
       "      <td>20</td>\n",
       "    </tr>\n",
       "    <tr>\n",
       "      <th>4</th>\n",
       "      <td>5</td>\n",
       "      <td>Ace Potter</td>\n",
       "      <td>9/8/1989</td>\n",
       "      <td>F</td>\n",
       "      <td>Divorced</td>\n",
       "      <td>Citizen</td>\n",
       "      <td>No</td>\n",
       "      <td>7/11/2011</td>\n",
       "      <td>9/6/2020</td>\n",
       "      <td>Manufacturing</td>\n",
       "      <td>50825</td>\n",
       "      <td>Meet</td>\n",
       "      <td>5.0</td>\n",
       "      <td>4</td>\n",
       "      <td>2</td>\n",
       "    </tr>\n",
       "  </tbody>\n",
       "</table>\n",
       "</div>"
      ],
      "text/plain": [
       "   ID             Staff  BirthYear Gender   Marital Citizenship Minority  \\\n",
       "0   1   Aairah Hastings  10/7/1986      F    Single     Citizen      Yes   \n",
       "1   2  Aaminah Mcmillan   05/25/86      F   Married     Citizen       No   \n",
       "2   3      Aamna Howell   04/20/85      F    Single     Citizen       No   \n",
       "3   4     Aayan Ferrell  6/10/1984     M    Married     Citizen       No   \n",
       "4   5        Ace Potter   9/8/1989      F  Divorced     Citizen       No   \n",
       "\n",
       "    JoinDate  LeftDate           Unit  Salary PerformanceScore  Survey  \\\n",
       "0   4/2/2012       NaN  Manufacturing   46335             Meet     3.4   \n",
       "1  5/12/2014       NaN  Manufacturing   66825             Meet     4.6   \n",
       "2  9/29/2014       NaN  Manufacturing   60446             Meet     3.4   \n",
       "3   1/5/2016       NaN         Admin    93046             Meet     4.1   \n",
       "4  7/11/2011  9/6/2020  Manufacturing   50825             Meet     5.0   \n",
       "\n",
       "   Satisfaction  Absence  \n",
       "0             5       15  \n",
       "1             3       20  \n",
       "2             4       14  \n",
       "3             4       20  \n",
       "4             4        2  "
      ]
     },
     "execution_count": 4,
     "metadata": {},
     "output_type": "execute_result"
    }
   ],
   "source": [
    "df.head()"
   ]
  },
  {
   "cell_type": "markdown",
   "id": "64d52a6e",
   "metadata": {},
   "source": [
    "## Qns 1b)"
   ]
  },
  {
   "cell_type": "code",
   "execution_count": 5,
   "id": "62d864c8",
   "metadata": {},
   "outputs": [
    {
     "data": {
      "text/html": [
       "<div>\n",
       "<style scoped>\n",
       "    .dataframe tbody tr th:only-of-type {\n",
       "        vertical-align: middle;\n",
       "    }\n",
       "\n",
       "    .dataframe tbody tr th {\n",
       "        vertical-align: top;\n",
       "    }\n",
       "\n",
       "    .dataframe thead th {\n",
       "        text-align: right;\n",
       "    }\n",
       "</style>\n",
       "<table border=\"1\" class=\"dataframe\">\n",
       "  <thead>\n",
       "    <tr style=\"text-align: right;\">\n",
       "      <th></th>\n",
       "      <th>Marital</th>\n",
       "      <th>ID</th>\n",
       "      <th>Salary</th>\n",
       "      <th>Survey</th>\n",
       "      <th>Satisfaction</th>\n",
       "      <th>Absence</th>\n",
       "    </tr>\n",
       "  </thead>\n",
       "  <tbody>\n",
       "    <tr>\n",
       "      <th>0</th>\n",
       "      <td>Divorced</td>\n",
       "      <td>99.192308</td>\n",
       "      <td>64245.807692</td>\n",
       "      <td>4.280769</td>\n",
       "      <td>4.000000</td>\n",
       "      <td>9.576923</td>\n",
       "    </tr>\n",
       "    <tr>\n",
       "      <th>1</th>\n",
       "      <td>Married</td>\n",
       "      <td>131.914894</td>\n",
       "      <td>71827.851064</td>\n",
       "      <td>4.109787</td>\n",
       "      <td>3.808511</td>\n",
       "      <td>11.095745</td>\n",
       "    </tr>\n",
       "    <tr>\n",
       "      <th>2</th>\n",
       "      <td>Others</td>\n",
       "      <td>133.187500</td>\n",
       "      <td>64084.687500</td>\n",
       "      <td>4.220625</td>\n",
       "      <td>3.875000</td>\n",
       "      <td>8.875000</td>\n",
       "    </tr>\n",
       "    <tr>\n",
       "      <th>3</th>\n",
       "      <td>Single</td>\n",
       "      <td>125.131579</td>\n",
       "      <td>68702.280702</td>\n",
       "      <td>4.222193</td>\n",
       "      <td>4.052632</td>\n",
       "      <td>10.035088</td>\n",
       "    </tr>\n",
       "  </tbody>\n",
       "</table>\n",
       "</div>"
      ],
      "text/plain": [
       "    Marital          ID        Salary    Survey  Satisfaction    Absence\n",
       "0  Divorced   99.192308  64245.807692  4.280769      4.000000   9.576923\n",
       "1   Married  131.914894  71827.851064  4.109787      3.808511  11.095745\n",
       "2    Others  133.187500  64084.687500  4.220625      3.875000   8.875000\n",
       "3    Single  125.131579  68702.280702  4.222193      4.052632  10.035088"
      ]
     },
     "execution_count": 5,
     "metadata": {},
     "output_type": "execute_result"
    }
   ],
   "source": [
    "df_mean1 = df.groupby(['Marital']).mean()\n",
    "df_mean1 = df_mean1.reset_index()\n",
    "df_mean1.head()"
   ]
  },
  {
   "cell_type": "code",
   "execution_count": 6,
   "id": "9d918852",
   "metadata": {},
   "outputs": [
    {
     "data": {
      "image/png": "[encoded data removed]",
      "text/plain": [
       "<Figure size 720x360 with 1 Axes>"
      ]
     },
     "metadata": {
      "needs_background": "light"
     },
     "output_type": "display_data"
    }
   ],
   "source": [
    "#plot 1\n",
    "fig = plt.figure(figsize = (10, 5))\n",
    " \n",
    "# creating the bar plot\n",
    "plt.bar(df_mean1['Marital'], df_mean1['Absence'], color ='maroon',\n",
    "        width = 0.4)\n",
    " \n",
    "plt.xlabel(\"Marital Status\")\n",
    "plt.ylabel(\"Absentees\")\n",
    "plt.title(\"Absentees for the various marital status\")\n",
    "plt.show()"
   ]
  },
  {
   "cell_type": "code",
   "execution_count": 8,
   "id": "78692a85",
   "metadata": {},
   "outputs": [
    {
     "data": {
      "text/html": [
       "<div>\n",
       "<style scoped>\n",
       "    .dataframe tbody tr th:only-of-type {\n",
       "        vertical-align: middle;\n",
       "    }\n",
       "\n",
       "    .dataframe tbody tr th {\n",
       "        vertical-align: top;\n",
       "    }\n",
       "\n",
       "    .dataframe thead th {\n",
       "        text-align: right;\n",
       "    }\n",
       "</style>\n",
       "<table border=\"1\" class=\"dataframe\">\n",
       "  <thead>\n",
       "    <tr style=\"text-align: right;\">\n",
       "      <th></th>\n",
       "      <th>Citizenship</th>\n",
       "      <th>ID</th>\n",
       "      <th>Salary</th>\n",
       "      <th>Survey</th>\n",
       "      <th>Satisfaction</th>\n",
       "      <th>Absence</th>\n",
       "    </tr>\n",
       "  </thead>\n",
       "  <tbody>\n",
       "    <tr>\n",
       "      <th>0</th>\n",
       "      <td>Citizen</td>\n",
       "      <td>117.776650</td>\n",
       "      <td>69082.588832</td>\n",
       "      <td>4.216294</td>\n",
       "      <td>3.923858</td>\n",
       "      <td>9.898477</td>\n",
       "    </tr>\n",
       "    <tr>\n",
       "      <th>1</th>\n",
       "      <td>Non-Resident</td>\n",
       "      <td>222.500000</td>\n",
       "      <td>72489.312500</td>\n",
       "      <td>3.886875</td>\n",
       "      <td>3.875000</td>\n",
       "      <td>10.812500</td>\n",
       "    </tr>\n",
       "    <tr>\n",
       "      <th>2</th>\n",
       "      <td>PR</td>\n",
       "      <td>124.675676</td>\n",
       "      <td>67852.027027</td>\n",
       "      <td>4.153514</td>\n",
       "      <td>4.081081</td>\n",
       "      <td>12.297297</td>\n",
       "    </tr>\n",
       "  </tbody>\n",
       "</table>\n",
       "</div>"
      ],
      "text/plain": [
       "    Citizenship          ID        Salary    Survey  Satisfaction    Absence\n",
       "0       Citizen  117.776650  69082.588832  4.216294      3.923858   9.898477\n",
       "1  Non-Resident  222.500000  72489.312500  3.886875      3.875000  10.812500\n",
       "2            PR  124.675676  67852.027027  4.153514      4.081081  12.297297"
      ]
     },
     "execution_count": 8,
     "metadata": {},
     "output_type": "execute_result"
    }
   ],
   "source": [
    "df_mean2 = df.groupby(['Citizenship']).mean()\n",
    "df_mean2 = df_mean2.reset_index()\n",
    "df_mean2.head()"
   ]
  },
  {
   "cell_type": "code",
   "execution_count": 9,
   "id": "a67faa2e",
   "metadata": {},
   "outputs": [
    {
     "data": {
      "image/png": "[encoded data removed]",
      "text/plain": [
       "<Figure size 432x288 with 1 Axes>"
      ]
     },
     "metadata": {
      "needs_background": "light"
     },
     "output_type": "display_data"
    }
   ],
   "source": [
    "#plot 2\n",
    "# creating the bar plot\n",
    "plt.bar(df_mean2['Citizenship'], df_mean2['Absence'], color ='maroon',\n",
    "        width = 0.4)\n",
    " \n",
    "plt.xlabel(\"Citizsenship\")\n",
    "plt.ylabel(\"Absentees\")\n",
    "plt.title(\"Absentees for the various citzenship groups\")\n",
    "plt.show()"
   ]
  },
  {
   "cell_type": "markdown",
   "id": "4b26a40a",
   "metadata": {},
   "source": [
    "## Qns 1c)"
   ]
  },
  {
   "cell_type": "markdown",
   "id": "8f1bd62e",
   "metadata": {},
   "source": [
    "### Find the length of service of all the staff, using Python. For staff who has not left the \n",
    "### organization, use 1st May 2022 as the LeftDate. State the minimum, maximum and \n",
    "### average length of service, expressing in years, rounded to 1 decimal place. (1 year is \n",
    "### taken as 365 days."
   ]
  },
  {
   "cell_type": "code",
   "execution_count": 8,
   "id": "43dda63d",
   "metadata": {},
   "outputs": [],
   "source": [
    "df['LeftDate'] = df['LeftDate'].fillna('1/5/2022')\n",
    "df['LeftDate'] =  pd.to_datetime(df['LeftDate'], format='%m/%d/%Y')"
   ]
  },
  {
   "cell_type": "code",
   "execution_count": 9,
   "id": "e02bc28f",
   "metadata": {},
   "outputs": [],
   "source": [
    "df['JoinDate'] = df['JoinDate'].fillna('1/5/2022')\n",
    "df['JoinDate'] =  pd.to_datetime(df['JoinDate'], format='%m/%d/%Y')"
   ]
  },
  {
   "cell_type": "code",
   "execution_count": 10,
   "id": "d628568c",
   "metadata": {},
   "outputs": [
    {
     "data": {
      "text/plain": [
       "0      3565\n",
       "1      2795\n",
       "2      2655\n",
       "3      2192\n",
       "4      3345\n",
       "       ... \n",
       "245    2515\n",
       "246    1721\n",
       "247    2922\n",
       "248    1114\n",
       "249    2473\n",
       "Name: duration in days, Length: 250, dtype: int64"
      ]
     },
     "execution_count": 10,
     "metadata": {},
     "output_type": "execute_result"
    }
   ],
   "source": [
    "df['duration in days'] = (df['LeftDate'] - df['JoinDate']).dt.days\n",
    "df['duration in days']"
   ]
  },
  {
   "cell_type": "code",
   "execution_count": 11,
   "id": "9312ab29",
   "metadata": {},
   "outputs": [
    {
     "data": {
      "text/plain": [
       "0      9.767123\n",
       "1      7.657534\n",
       "2      7.273973\n",
       "3      6.005479\n",
       "4      9.164384\n",
       "         ...   \n",
       "245    6.890411\n",
       "246    4.715068\n",
       "247    8.005479\n",
       "248    3.052055\n",
       "249    6.775342\n",
       "Name: duration in years, Length: 250, dtype: float64"
      ]
     },
     "execution_count": 11,
     "metadata": {},
     "output_type": "execute_result"
    }
   ],
   "source": [
    "df['duration in years'] = df['duration in days']/365\n",
    "df['duration in years']"
   ]
  },
  {
   "cell_type": "code",
   "execution_count": 12,
   "id": "f1cecb80",
   "metadata": {},
   "outputs": [],
   "source": [
    "max_service = round(max(df['duration in years']), 1)\n",
    "min_service = round(min(df['duration in years']), 1)"
   ]
  },
  {
   "cell_type": "code",
   "execution_count": 13,
   "id": "f8eed3fb",
   "metadata": {},
   "outputs": [
    {
     "data": {
      "text/plain": [
       "16.0"
      ]
     },
     "execution_count": 13,
     "metadata": {},
     "output_type": "execute_result"
    }
   ],
   "source": [
    "max_service"
   ]
  },
  {
   "cell_type": "code",
   "execution_count": 14,
   "id": "6f9e73ae",
   "metadata": {},
   "outputs": [
    {
     "data": {
      "text/plain": [
       "0.1"
      ]
     },
     "execution_count": 14,
     "metadata": {},
     "output_type": "execute_result"
    }
   ],
   "source": [
    "min_service"
   ]
  },
  {
   "cell_type": "markdown",
   "id": "39e0f294",
   "metadata": {},
   "source": [
    "The maximum service is 16.0 years while the minumum service is 0.1 years."
   ]
  },
  {
   "cell_type": "markdown",
   "id": "2a5c48d9",
   "metadata": {},
   "source": [
    "## part d)"
   ]
  },
  {
   "cell_type": "code",
   "execution_count": null,
   "id": "f426cd34",
   "metadata": {},
   "outputs": [
    {
     "name": "stdout",
     "output_type": "stream",
     "text": [
      "Please input the full name of the person: Aairah Hastings\n",
      "Yes, this person is part of the organisation\n",
      "Please input the full name of the person: sds\n",
      "No, this person is not part of the organisation\n",
      "Please input the full name of the person: Aairah Hastings\n",
      "Yes, this person is part of the organisation\n",
      "Please input the full name of the person: Aamna Howell\n",
      "Yes, this person is part of the organisation\n",
      "Please input the full name of the person: ert34u4803\n",
      "No, this person is not part of the organisation\n"
     ]
    }
   ],
   "source": [
    "loop = True\n",
    "while loop:\n",
    "    user_input = input(\"Please input the full name of the person: \")\n",
    "    loop2 = 'not_here'\n",
    "    for i in df['Staff']:\n",
    "        \n",
    "        if user_input == i:\n",
    "            print(\"Yes, this person is part of the organisation\")\n",
    "            loop2 = 'its_here'\n",
    "            pass\n",
    "    if loop2 == 'not_here':\n",
    "        print(\"No, this person is not part of the organisation\")"
   ]
  }
 ],
 "metadata": {
  "kernelspec": {
   "display_name": "Python 3",
   "language": "python",
   "name": "python3"
  },
  "language_info": {
   "codemirror_mode": {
    "name": "ipython",
    "version": 3
   },
   "file_extension": ".py",
   "mimetype": "text/x-python",
   "name": "python",
   "nbconvert_exporter": "python",
   "pygments_lexer": "ipython3",
   "version": "3.8.8"
  }
 },
 "nbformat": 4,
 "nbformat_minor": 5
}
